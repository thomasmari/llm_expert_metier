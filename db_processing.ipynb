{
 "cells": [
  {
   "cell_type": "code",
   "execution_count": 1,
   "id": "eadcb8ca",
   "metadata": {},
   "outputs": [],
   "source": [
    "#inputs\n",
    "file_path = \"data/Code_penal_small.pdf\"\n"
   ]
  },
  {
   "cell_type": "code",
   "execution_count": 2,
   "id": "b322b629",
   "metadata": {},
   "outputs": [
    {
     "name": "stdout",
     "output_type": "stream",
     "text": [
      "2\n"
     ]
    }
   ],
   "source": [
    "#Loading documents\n",
    "from langchain_community.document_loaders import PyPDFLoader\n",
    "loader = PyPDFLoader(file_path)\n",
    "docs = loader.load()\n",
    "print(len(docs))\n"
   ]
  },
  {
   "cell_type": "code",
   "execution_count": 3,
   "id": "bcaefe03",
   "metadata": {},
   "outputs": [
    {
     "data": {
      "text/plain": [
       "3"
      ]
     },
     "execution_count": 3,
     "metadata": {},
     "output_type": "execute_result"
    }
   ],
   "source": [
    "#Splitting\n",
    "from langchain_text_splitters import RecursiveCharacterTextSplitter\n",
    "\n",
    "text_splitter = RecursiveCharacterTextSplitter(\n",
    "    chunk_size=1000, chunk_overlap=200, add_start_index=True\n",
    ")\n",
    "all_splits = text_splitter.split_documents(docs)\n",
    "\n",
    "len(all_splits)"
   ]
  },
  {
   "cell_type": "code",
   "execution_count": 4,
   "id": "a8660627",
   "metadata": {},
   "outputs": [],
   "source": [
    "#Embeddings api creds\n",
    "import getpass\n",
    "import os\n",
    "\n",
    "if not os.environ.get(\"GOOGLE_API_KEY\"):\n",
    "  os.environ[\"GOOGLE_API_KEY\"] = getpass.getpass(\"Enter API key for Google Gemini: \")\n",
    "\n",
    "from langchain_google_genai import GoogleGenerativeAIEmbeddings\n",
    "\n",
    "embeddings = GoogleGenerativeAIEmbeddings(model=\"models/gemini-embedding-001\")"
   ]
  },
  {
   "cell_type": "markdown",
   "id": "780d6b2e",
   "metadata": {},
   "source": [
    "### import db and only add to db if not exists"
   ]
  },
  {
   "cell_type": "code",
   "execution_count": 5,
   "id": "60c71f63",
   "metadata": {},
   "outputs": [],
   "source": [
    "#Hashing chunks\n",
    "import hashlib\n",
    "def get_id(split):\n",
    "    text = str(split)\n",
    "    hash_md5 = hashlib.md5(text.encode()).hexdigest()\n",
    "    return(hash_md5)"
   ]
  },
  {
   "cell_type": "code",
   "execution_count": 6,
   "id": "377227ac",
   "metadata": {},
   "outputs": [],
   "source": [
    "#initialize db\n",
    "from langchain_chroma import Chroma\n",
    "#input\n",
    "db_path = \"./chroma_langchain_db\"\n",
    "collection_name = 'chunk_test'\n",
    "#body\n",
    "vector_store = Chroma(\n",
    "    collection_name=collection_name,\n",
    "    embedding_function=embeddings,\n",
    "    persist_directory=db_path,  # Where to save data locally, remove if not necessary\n",
    ")"
   ]
  },
  {
   "cell_type": "code",
   "execution_count": 7,
   "id": "2bd73265",
   "metadata": {},
   "outputs": [],
   "source": [
    "#import db from local\n",
    "import chromadb\n",
    "\n",
    "# # Connexion à ChromaDB (par défaut en local)\n",
    "# client = chromadb.Client()\n",
    "\n",
    "# Ou pour une base persistante\n",
    "client = chromadb.PersistentClient(path=db_path)\n",
    "\n",
    "# Récupérer ou créer une collection\n",
    "collection = client.get_or_create_collection(collection_name)"
   ]
  },
  {
   "cell_type": "code",
   "execution_count": 8,
   "id": "0da275b5",
   "metadata": {},
   "outputs": [],
   "source": [
    "def add_to_db(collection, list_of_documents):\n",
    "    all_data = collection.get()\n",
    "    existing_ids = set(all_data['ids'])\n",
    "    for e in list_of_documents:\n",
    "        e_id = get_id(e)\n",
    "        if e_id in existing_ids:\n",
    "            print(\"Cet ID existe déjà .... skipping\")\n",
    "        else:\n",
    "            # Extraire le contenu texte ET les métadonnées\n",
    "            collection.add(\n",
    "                documents=[e.page_content],  # Le texte\n",
    "                ids=[e_id],\n",
    "                metadatas=[e.metadata]       # Les métadonnées (optionnel)\n",
    "            )    "
   ]
  },
  {
   "cell_type": "code",
   "execution_count": 9,
   "id": "e5855a19",
   "metadata": {},
   "outputs": [],
   "source": [
    "# Supprimer l'ancienne collection\n",
    "client.delete_collection(collection_name)\n",
    "\n",
    "# Recréer avec le bon modèle d'embedding\n",
    "collection = client.get_or_create_collection(collection_name)"
   ]
  },
  {
   "cell_type": "code",
   "execution_count": 10,
   "id": "87ec329f",
   "metadata": {},
   "outputs": [],
   "source": [
    "#usage add to db a list of files\n",
    "add_to_db(collection=collection, list_of_documents=all_splits)"
   ]
  },
  {
   "cell_type": "code",
   "execution_count": 11,
   "id": "e72c6eae",
   "metadata": {},
   "outputs": [],
   "source": [
    "#dump into a pickle\n",
    "import pickle\n",
    "\n",
    "# Récupérer toutes les données de la collection\n",
    "all_data = collection.get(include=['documents', 'metadatas', 'embeddings'])\n",
    "\n",
    "# Sauver en pickle\n",
    "with open('ma_db.pkl', 'wb') as f:\n",
    "    pickle.dump(all_data, f)"
   ]
  },
  {
   "cell_type": "code",
   "execution_count": 12,
   "id": "7a93c791",
   "metadata": {},
   "outputs": [],
   "source": [
    "import pickle\n",
    "import chromadb\n",
    "\n",
    "def merge_pickles_to_db(pickle_files, output_collection):\n",
    "    \"\"\"Merge plusieurs pickles dans une collection ChromaDB\"\"\"\n",
    "    \n",
    "    all_docs = []\n",
    "    all_ids = []\n",
    "    all_metadatas = []\n",
    "    all_embeddings = []\n",
    "    \n",
    "    for pickle_file in pickle_files:\n",
    "        print(f\"Chargement de {pickle_file}...\")\n",
    "        \n",
    "        with open(pickle_file, 'rb') as f:\n",
    "            data = pickle.load(f)\n",
    "        \n",
    "        # Combiner les données\n",
    "        all_docs.extend(data['documents'])\n",
    "        all_ids.extend(data['ids'])\n",
    "        all_metadatas.extend(data['metadatas'] or [None] * len(data['documents']))\n",
    "        \n",
    "        if data['embeddings']:\n",
    "            all_embeddings.extend(data['embeddings'])\n",
    "    \n",
    "    # Ajouter tout à la collection finale\n",
    "    if all_embeddings:\n",
    "        output_collection.add(\n",
    "            documents=all_docs,\n",
    "            ids=all_ids,\n",
    "            metadatas=all_metadatas,\n",
    "            embeddings=all_embeddings\n",
    "        )\n",
    "    else:\n",
    "        output_collection.add(\n",
    "            documents=all_docs,\n",
    "            ids=all_ids,\n",
    "            metadatas=all_metadatas\n",
    "        )\n",
    "    \n",
    "    print(f\"Mergé {len(all_docs)} documents!\")\n"
   ]
  },
  {
   "cell_type": "code",
   "execution_count": 13,
   "id": "2abaaa93",
   "metadata": {},
   "outputs": [
    {
     "name": "stdout",
     "output_type": "stream",
     "text": [
      "Chargement de db1.pkl...\n"
     ]
    },
    {
     "ename": "FileNotFoundError",
     "evalue": "[Errno 2] No such file or directory: 'db1.pkl'",
     "output_type": "error",
     "traceback": [
      "\u001b[31m---------------------------------------------------------------------------\u001b[39m",
      "\u001b[31mFileNotFoundError\u001b[39m                         Traceback (most recent call last)",
      "\u001b[36mCell\u001b[39m\u001b[36m \u001b[39m\u001b[32mIn[13]\u001b[39m\u001b[32m, line 6\u001b[39m\n\u001b[32m      3\u001b[39m client = chromadb.PersistentClient(path=\u001b[33m\"\u001b[39m\u001b[33mmerged_db\u001b[39m\u001b[33m\"\u001b[39m)\n\u001b[32m      4\u001b[39m merged_collection = client.get_or_create_collection(\u001b[33m\"\u001b[39m\u001b[33mmerged_collection\u001b[39m\u001b[33m\"\u001b[39m)\n\u001b[32m----> \u001b[39m\u001b[32m6\u001b[39m \u001b[43mmerge_pickles_to_db\u001b[49m\u001b[43m(\u001b[49m\u001b[43mpickle_files\u001b[49m\u001b[43m,\u001b[49m\u001b[43m \u001b[49m\u001b[43mmerged_collection\u001b[49m\u001b[43m)\u001b[49m\n",
      "\u001b[36mCell\u001b[39m\u001b[36m \u001b[39m\u001b[32mIn[12]\u001b[39m\u001b[32m, line 15\u001b[39m, in \u001b[36mmerge_pickles_to_db\u001b[39m\u001b[34m(pickle_files, output_collection)\u001b[39m\n\u001b[32m     12\u001b[39m \u001b[38;5;28;01mfor\u001b[39;00m pickle_file \u001b[38;5;129;01min\u001b[39;00m pickle_files:\n\u001b[32m     13\u001b[39m     \u001b[38;5;28mprint\u001b[39m(\u001b[33mf\u001b[39m\u001b[33m\"\u001b[39m\u001b[33mChargement de \u001b[39m\u001b[38;5;132;01m{\u001b[39;00mpickle_file\u001b[38;5;132;01m}\u001b[39;00m\u001b[33m...\u001b[39m\u001b[33m\"\u001b[39m)\n\u001b[32m---> \u001b[39m\u001b[32m15\u001b[39m     \u001b[38;5;28;01mwith\u001b[39;00m \u001b[38;5;28;43mopen\u001b[39;49m\u001b[43m(\u001b[49m\u001b[43mpickle_file\u001b[49m\u001b[43m,\u001b[49m\u001b[43m \u001b[49m\u001b[33;43m'\u001b[39;49m\u001b[33;43mrb\u001b[39;49m\u001b[33;43m'\u001b[39;49m\u001b[43m)\u001b[49m \u001b[38;5;28;01mas\u001b[39;00m f:\n\u001b[32m     16\u001b[39m         data = pickle.load(f)\n\u001b[32m     18\u001b[39m     \u001b[38;5;66;03m# Combiner les données\u001b[39;00m\n",
      "\u001b[36mFile \u001b[39m\u001b[32m~/Documents/Git/llm_expert_metier/.venv/lib/python3.12/site-packages/IPython/core/interactiveshell.py:343\u001b[39m, in \u001b[36m_modified_open\u001b[39m\u001b[34m(file, *args, **kwargs)\u001b[39m\n\u001b[32m    336\u001b[39m \u001b[38;5;28;01mif\u001b[39;00m file \u001b[38;5;129;01min\u001b[39;00m {\u001b[32m0\u001b[39m, \u001b[32m1\u001b[39m, \u001b[32m2\u001b[39m}:\n\u001b[32m    337\u001b[39m     \u001b[38;5;28;01mraise\u001b[39;00m \u001b[38;5;167;01mValueError\u001b[39;00m(\n\u001b[32m    338\u001b[39m         \u001b[33mf\u001b[39m\u001b[33m\"\u001b[39m\u001b[33mIPython won\u001b[39m\u001b[33m'\u001b[39m\u001b[33mt let you open fd=\u001b[39m\u001b[38;5;132;01m{\u001b[39;00mfile\u001b[38;5;132;01m}\u001b[39;00m\u001b[33m by default \u001b[39m\u001b[33m\"\u001b[39m\n\u001b[32m    339\u001b[39m         \u001b[33m\"\u001b[39m\u001b[33mas it is likely to crash IPython. If you know what you are doing, \u001b[39m\u001b[33m\"\u001b[39m\n\u001b[32m    340\u001b[39m         \u001b[33m\"\u001b[39m\u001b[33myou can use builtins\u001b[39m\u001b[33m'\u001b[39m\u001b[33m open.\u001b[39m\u001b[33m\"\u001b[39m\n\u001b[32m    341\u001b[39m     )\n\u001b[32m--> \u001b[39m\u001b[32m343\u001b[39m \u001b[38;5;28;01mreturn\u001b[39;00m \u001b[43mio_open\u001b[49m\u001b[43m(\u001b[49m\u001b[43mfile\u001b[49m\u001b[43m,\u001b[49m\u001b[43m \u001b[49m\u001b[43m*\u001b[49m\u001b[43margs\u001b[49m\u001b[43m,\u001b[49m\u001b[43m \u001b[49m\u001b[43m*\u001b[49m\u001b[43m*\u001b[49m\u001b[43mkwargs\u001b[49m\u001b[43m)\u001b[49m\n",
      "\u001b[31mFileNotFoundError\u001b[39m: [Errno 2] No such file or directory: 'db1.pkl'"
     ]
    }
   ],
   "source": [
    "\n",
    "# Usage\n",
    "pickle_files = ['db1.pkl', 'db2.pkl', 'db3.pkl']\n",
    "client = chromadb.PersistentClient(path=\"merged_db\")\n",
    "merged_collection = client.get_or_create_collection(\"merged_collection\")\n",
    "\n",
    "merge_pickles_to_db(pickle_files, merged_collection)"
   ]
  }
 ],
 "metadata": {
  "kernelspec": {
   "display_name": "llm-expert-metier",
   "language": "python",
   "name": "python3"
  },
  "language_info": {
   "codemirror_mode": {
    "name": "ipython",
    "version": 3
   },
   "file_extension": ".py",
   "mimetype": "text/x-python",
   "name": "python",
   "nbconvert_exporter": "python",
   "pygments_lexer": "ipython3",
   "version": "3.12.2"
  }
 },
 "nbformat": 4,
 "nbformat_minor": 5
}
