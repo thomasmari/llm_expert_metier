{
 "cells": [
  {
   "cell_type": "code",
   "execution_count": 1,
   "id": "eadcb8ca",
   "metadata": {},
   "outputs": [],
   "source": [
    "#inputs\n",
    "file_path = \"data/Code_penal_small.pdf\"\n"
   ]
  },
  {
   "cell_type": "code",
   "execution_count": 2,
   "id": "b322b629",
   "metadata": {},
   "outputs": [
    {
     "name": "stdout",
     "output_type": "stream",
     "text": [
      "2\n"
     ]
    }
   ],
   "source": [
    "#Loading documents\n",
    "from langchain_community.document_loaders import PyPDFLoader\n",
    "loader = PyPDFLoader(file_path)\n",
    "docs = loader.load()\n",
    "print(len(docs))\n"
   ]
  },
  {
   "cell_type": "code",
   "execution_count": 3,
   "id": "bcaefe03",
   "metadata": {},
   "outputs": [
    {
     "data": {
      "text/plain": [
       "3"
      ]
     },
     "execution_count": 3,
     "metadata": {},
     "output_type": "execute_result"
    }
   ],
   "source": [
    "#Splitting\n",
    "from langchain_text_splitters import RecursiveCharacterTextSplitter\n",
    "\n",
    "text_splitter = RecursiveCharacterTextSplitter(\n",
    "    chunk_size=1000, chunk_overlap=200, add_start_index=True\n",
    ")\n",
    "all_splits = text_splitter.split_documents(docs)\n",
    "\n",
    "len(all_splits)"
   ]
  },
  {
   "cell_type": "code",
   "execution_count": 4,
   "id": "a8660627",
   "metadata": {},
   "outputs": [],
   "source": [
    "#Embeddings api creds\n",
    "import getpass\n",
    "import os\n",
    "\n",
    "if not os.environ.get(\"GOOGLE_API_KEY\"):\n",
    "  os.environ[\"GOOGLE_API_KEY\"] = getpass.getpass(\"Enter API key for Google Gemini: \")\n",
    "\n",
    "from langchain_google_genai import GoogleGenerativeAIEmbeddings\n",
    "\n",
    "embeddings = GoogleGenerativeAIEmbeddings(model=\"models/gemini-embedding-001\")"
   ]
  },
  {
   "cell_type": "markdown",
   "id": "780d6b2e",
   "metadata": {},
   "source": [
    "### import db and only add to db if not exists"
   ]
  },
  {
   "cell_type": "code",
   "execution_count": 5,
   "id": "60c71f63",
   "metadata": {},
   "outputs": [],
   "source": [
    "#Hashing chunks\n",
    "import hashlib\n",
    "def get_id(split):\n",
    "    text = str(split)\n",
    "    hash_md5 = hashlib.md5(text.encode()).hexdigest()\n",
    "    return(hash_md5)"
   ]
  },
  {
   "cell_type": "code",
   "execution_count": 6,
   "id": "377227ac",
   "metadata": {},
   "outputs": [],
   "source": [
    "#initialize db\n",
    "from langchain_chroma import Chroma\n",
    "#input\n",
    "db_path = \"./chroma_langchain_db\"\n",
    "collection_name = 'chunk_test'\n",
    "#body\n",
    "vector_store = Chroma(\n",
    "    collection_name=collection_name,\n",
    "    embedding_function=embeddings,\n",
    "    persist_directory=db_path,  # Where to save data locally, remove if not necessary\n",
    ")"
   ]
  },
  {
   "cell_type": "code",
   "execution_count": 7,
   "id": "2bd73265",
   "metadata": {},
   "outputs": [],
   "source": [
    "#import db from local\n",
    "import chromadb\n",
    "\n",
    "# # Connexion à ChromaDB (par défaut en local)\n",
    "# client = chromadb.Client()\n",
    "\n",
    "# Ou pour une base persistante\n",
    "client = chromadb.PersistentClient(path=db_path)\n",
    "\n",
    "# Récupérer ou créer une collection\n",
    "collection = client.get_or_create_collection(collection_name)"
   ]
  },
  {
   "cell_type": "code",
   "execution_count": 8,
   "id": "0da275b5",
   "metadata": {},
   "outputs": [],
   "source": [
    "def add_to_db(collection, list_of_documents):\n",
    "    all_data = collection.get()\n",
    "    existing_ids = set(all_data['ids'])\n",
    "    for e in list_of_documents:\n",
    "        e_id = get_id(e)\n",
    "        if e_id in existing_ids:\n",
    "            print(\"Cet ID existe déjà .... skipping\")\n",
    "        else:\n",
    "            # Extraire le contenu texte ET les métadonnées\n",
    "            collection.add(\n",
    "                documents=[e.page_content],  # Le texte\n",
    "                ids=[e_id],\n",
    "                metadatas=[e.metadata]       # Les métadonnées (optionnel)\n",
    "            )    "
   ]
  },
  {
   "cell_type": "code",
   "execution_count": 10,
   "id": "e5855a19",
   "metadata": {},
   "outputs": [],
   "source": [
    "# Supprimer l'ancienne collection\n",
    "client.delete_collection(collection_name)\n",
    "\n",
    "# Recréer avec le bon modèle d'embedding\n",
    "collection = client.get_or_create_collection(collection_name)"
   ]
  },
  {
   "cell_type": "code",
   "execution_count": null,
   "id": "87ec329f",
   "metadata": {},
   "outputs": [
    {
     "name": "stdout",
     "output_type": "stream",
     "text": [
      "Cet ID existe déjà .... skipping\n",
      "Cet ID existe déjà .... skipping\n",
      "Cet ID existe déjà .... skipping\n"
     ]
    }
   ],
   "source": [
    "#usage add to db a list of files\n",
    "add_to_db(collection=collection, list_of_documents=all_splits)"
   ]
  },
  {
   "cell_type": "code",
   "execution_count": null,
   "id": "e72c6eae",
   "metadata": {},
   "outputs": [],
   "source": [
    "#dump into a pickle\n",
    "import pickle\n",
    "\n",
    "# Récupérer toutes les données de la collection\n",
    "all_data = collection.get(include=['documents', 'metadatas', 'embeddings'])\n",
    "\n",
    "# Sauver en pickle\n",
    "with open('ma_db.pkl', 'wb') as f:\n",
    "    pickle.dump(all_data, f)"
   ]
  },
  {
   "cell_type": "code",
   "execution_count": 13,
   "id": "7a93c791",
   "metadata": {},
   "outputs": [],
   "source": [
    "import pickle\n",
    "import chromadb\n",
    "\n",
    "def merge_pickles_to_db(pickle_files, output_collection):\n",
    "    \"\"\"Merge plusieurs pickles dans une collection ChromaDB\"\"\"\n",
    "    \n",
    "    all_docs = []\n",
    "    all_ids = []\n",
    "    all_metadatas = []\n",
    "    all_embeddings = []\n",
    "    \n",
    "    for pickle_file in pickle_files:\n",
    "        print(f\"Chargement de {pickle_file}...\")\n",
    "        \n",
    "        with open(pickle_file, 'rb') as f:\n",
    "            data = pickle.load(f)\n",
    "        \n",
    "        # Combiner les données\n",
    "        all_docs.extend(data['documents'])\n",
    "        all_ids.extend(data['ids'])\n",
    "        all_metadatas.extend(data['metadatas'] or [None] * len(data['documents']))\n",
    "        \n",
    "        if data['embeddings']:\n",
    "            all_embeddings.extend(data['embeddings'])\n",
    "    \n",
    "    # Ajouter tout à la collection finale\n",
    "    if all_embeddings:\n",
    "        output_collection.add(\n",
    "            documents=all_docs,\n",
    "            ids=all_ids,\n",
    "            metadatas=all_metadatas,\n",
    "            embeddings=all_embeddings\n",
    "        )\n",
    "    else:\n",
    "        output_collection.add(\n",
    "            documents=all_docs,\n",
    "            ids=all_ids,\n",
    "            metadatas=all_metadatas\n",
    "        )\n",
    "    \n",
    "    print(f\"Mergé {len(all_docs)} documents!\")\n"
   ]
  },
  {
   "cell_type": "code",
   "execution_count": null,
   "id": "2abaaa93",
   "metadata": {},
   "outputs": [],
   "source": [
    "\n",
    "# Usage\n",
    "pickle_files = ['db1.pkl', 'db2.pkl', 'db3.pkl']\n",
    "client = chromadb.PersistentClient(path=\"merged_db\")\n",
    "merged_collection = client.get_or_create_collection(\"merged_collection\")\n",
    "\n",
    "merge_pickles_to_db(pickle_files, merged_collection)"
   ]
  }
 ],
 "metadata": {
  "kernelspec": {
   "display_name": "llm-expert-metier",
   "language": "python",
   "name": "python3"
  },
  "language_info": {
   "codemirror_mode": {
    "name": "ipython",
    "version": 3
   },
   "file_extension": ".py",
   "mimetype": "text/x-python",
   "name": "python",
   "nbconvert_exporter": "python",
   "pygments_lexer": "ipython3",
   "version": "3.12.2"
  }
 },
 "nbformat": 4,
 "nbformat_minor": 5
}
