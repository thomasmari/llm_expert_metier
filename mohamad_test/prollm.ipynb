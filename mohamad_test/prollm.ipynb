{
 "cells": [
  {
   "cell_type": "code",
   "execution_count": null,
   "id": "b714a926",
   "metadata": {},
   "outputs": [
    {
     "name": "stdout",
     "output_type": "stream",
     "text": [
      "\u001b[31mERROR: Could not find a version that satisfies the requirement google-generative-ai (from versions: none)\u001b[0m\u001b[31m\n",
      "\u001b[0m\u001b[31mERROR: No matching distribution found for google-generative-ai\u001b[0m\u001b[31m\n",
      "\u001b[0m"
     ]
    }
   ],
   "source": [
    "#!pip install google-generative-ai\n"
   ]
  },
  {
   "cell_type": "code",
   "execution_count": 1,
   "id": "4789904e",
   "metadata": {},
   "outputs": [
    {
     "ename": "ModuleNotFoundError",
     "evalue": "No module named 'google.generativeai'",
     "output_type": "error",
     "traceback": [
      "\u001b[31m---------------------------------------------------------------------------\u001b[39m",
      "\u001b[31mModuleNotFoundError\u001b[39m                       Traceback (most recent call last)",
      "\u001b[36mCell\u001b[39m\u001b[36m \u001b[39m\u001b[32mIn[1]\u001b[39m\u001b[32m, line 1\u001b[39m\n\u001b[32m----> \u001b[39m\u001b[32m1\u001b[39m \u001b[38;5;28;01mimport\u001b[39;00m\u001b[38;5;250m \u001b[39m\u001b[34;01mgoogle\u001b[39;00m\u001b[34;01m.\u001b[39;00m\u001b[34;01mgenerativeai\u001b[39;00m\u001b[38;5;250m \u001b[39m\u001b[38;5;28;01mas\u001b[39;00m\u001b[38;5;250m \u001b[39m\u001b[34;01mgenai\u001b[39;00m\n\u001b[32m      2\u001b[39m \u001b[38;5;28;01mfrom\u001b[39;00m\u001b[38;5;250m \u001b[39m\u001b[34;01mgoogle\u001b[39;00m\u001b[34;01m.\u001b[39;00m\u001b[34;01mcolab\u001b[39;00m\u001b[38;5;250m \u001b[39m\u001b[38;5;28;01mimport\u001b[39;00m userdata\n\u001b[32m      4\u001b[39m \u001b[38;5;66;03m# Configure Gemini API\u001b[39;00m\n",
      "\u001b[31mModuleNotFoundError\u001b[39m: No module named 'google.generativeai'"
     ]
    }
   ],
   "source": [
    "import google.generativeai as genai\n",
    "from google.colab import userdata\n",
    "\n",
    "# Configure Gemini API\n",
    "genai.configure(api_key=userdata.get('GENAI_API'))\n",
    "\n",
    "def rag_query(query_text, n_results=3, max_chars_per_doc=1000):\n",
    "    \"\"\"\n",
    "    Fonction RAG : récupère les CVs via Chroma et génère une réponse avec Gemini.\n",
    "    \n",
    "    Args:\n",
    "        query_text (str): La question ou requête utilisateur\n",
    "        n_results (int): Nombre de documents CV à récupérer\n",
    "        max_chars_per_doc (int): Nombre max de caractères à prendre par document pour le contexte\n",
    "    Returns:\n",
    "        str: Réponse générée par le LLM basée sur les CVs\n",
    "    \"\"\"\n",
    "\n",
    "    # Étape 1 : récupérer les documents via Chroma\n",
    "    results = simple_query(query_text, n_results=n_results)\n",
    "    \n",
    "    if not results or not results.get(\"documents\") or not results[\"documents\"][0]:\n",
    "        return \"❌ Aucun CV pertinent trouvé pour cette requête.\"\n",
    "\n",
    "    # Étape 2 : construire le contexte à partir des extraits\n",
    "    documents = results[\"documents\"][0]\n",
    "    metadatas = results[\"metadatas\"][0]\n",
    "    \n",
    "    context_chunks = []\n",
    "    for doc, meta in zip(documents, metadatas):\n",
    "        preview = doc[:max_chars_per_doc] + (\"...\" if len(doc) > max_chars_per_doc else \"\")\n",
    "        meta_info = f\"👤 Candidate: {meta.get('candidate_name', 'Unknown')}, \" \\\n",
    "                    f\"📍 Location: {meta.get('location', 'N/A')}, \" \\\n",
    "                    f\"💼 Seniority: {meta.get('seniority_level', 'N/A')}\"\n",
    "        context_chunks.append(f\"{meta_info}\\n{preview}\")\n",
    "    \n",
    "    context = \"\\n\\n---\\n\\n\".join(context_chunks)\n",
    "\n",
    "    # Étape 3 : construire le prompt pour le LLM\n",
    "    prompt = f\"\"\"\n",
    "Vous êtes un assistant RH. Voici des extraits pertinents de CVs correspondant à la requête :\n",
    "{context}\n",
    "\n",
    "Répondez de manière concise et informative à la question suivante, en vous basant uniquement sur ces CVs :\n",
    "{query_text}\n",
    "\"\"\"\n",
    "    \n",
    "    # Étape 4 : génération via Gemini\n",
    "    response = genai.chat.create(\n",
    "        model=\"models/gemini-1.5-chat\",\n",
    "        messages=[{\"role\": \"user\", \"content\": prompt}],\n",
    "    )\n",
    "\n",
    "    return response.last.message.content"
   ]
  },
  {
   "cell_type": "code",
   "execution_count": null,
   "id": "c2ccf286",
   "metadata": {},
   "outputs": [],
   "source": [
    "# Exemple d'utilisation\n",
    "#query = \"Cherche un développeur Python avec expérience en machine learning et data science.\"\n",
    "query = \"les punitions le plus important dans le code pénal.\"\n",
    "answer = rag_query(query)\n",
    "print(\"💡 Réponse RAG :\")\n",
    "print(answer)"
   ]
  },
  {
   "cell_type": "code",
   "execution_count": null,
   "id": "25f83f1a",
   "metadata": {},
   "outputs": [],
   "source": []
  },
  {
   "cell_type": "code",
   "execution_count": null,
   "id": "d400404c",
   "metadata": {},
   "outputs": [],
   "source": []
  }
 ],
 "metadata": {
  "kernelspec": {
   "display_name": "llm-expert-metier (3.12.7)",
   "language": "python",
   "name": "python3"
  },
  "language_info": {
   "codemirror_mode": {
    "name": "ipython",
    "version": 3
   },
   "file_extension": ".py",
   "mimetype": "text/x-python",
   "name": "python",
   "nbconvert_exporter": "python",
   "pygments_lexer": "ipython3",
   "version": "3.12.7"
  }
 },
 "nbformat": 4,
 "nbformat_minor": 5
}
